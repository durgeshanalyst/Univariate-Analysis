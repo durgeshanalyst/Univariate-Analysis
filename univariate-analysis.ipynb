{
 "cells": [
  {
   "cell_type": "code",
   "execution_count": 1,
   "id": "c55097bb",
   "metadata": {
    "_cell_guid": "b1076dfc-b9ad-4769-8c92-a6c4dae69d19",
    "_uuid": "8f2839f25d086af736a60e9eeb907d3b93b6e0e5",
    "execution": {
     "iopub.execute_input": "2023-01-17T05:12:42.068328Z",
     "iopub.status.busy": "2023-01-17T05:12:42.067514Z",
     "iopub.status.idle": "2023-01-17T05:12:42.089102Z",
     "shell.execute_reply": "2023-01-17T05:12:42.087901Z"
    },
    "papermill": {
     "duration": 0.033057,
     "end_time": "2023-01-17T05:12:42.092700",
     "exception": false,
     "start_time": "2023-01-17T05:12:42.059643",
     "status": "completed"
    },
    "tags": []
   },
   "outputs": [
    {
     "name": "stdout",
     "output_type": "stream",
     "text": [
      "/kaggle/input/test-file/tested.csv\n"
     ]
    }
   ],
   "source": [
    "# This Python 3 environment comes with many helpful analytics libraries installed\n",
    "# It is defined by the kaggle/python Docker image: https://github.com/kaggle/docker-python\n",
    "# For example, here's several helpful packages to load\n",
    "\n",
    "import numpy as np # linear algebra\n",
    "import pandas as pd # data processing, CSV file I/O (e.g. pd.read_csv)\n",
    "\n",
    "# Input data files are available in the read-only \"../input/\" directory\n",
    "# For example, running this (by clicking run or pressing Shift+Enter) will list all files under the input directory\n",
    "\n",
    "import os\n",
    "for dirname, _, filenames in os.walk('/kaggle/input'):\n",
    "    for filename in filenames:\n",
    "        print(os.path.join(dirname, filename))\n",
    "\n",
    "# You can write up to 20GB to the current directory (/kaggle/working/) that gets preserved as output when you create a version using \"Save & Run All\" \n",
    "# You can also write temporary files to /kaggle/temp/, but they won't be saved outside of the current session"
   ]
  },
  {
   "cell_type": "code",
   "execution_count": 2,
   "id": "732a3801",
   "metadata": {
    "execution": {
     "iopub.execute_input": "2023-01-17T05:12:42.104624Z",
     "iopub.status.busy": "2023-01-17T05:12:42.104149Z",
     "iopub.status.idle": "2023-01-17T05:12:42.130801Z",
     "shell.execute_reply": "2023-01-17T05:12:42.129582Z"
    },
    "papermill": {
     "duration": 0.035819,
     "end_time": "2023-01-17T05:12:42.133744",
     "exception": false,
     "start_time": "2023-01-17T05:12:42.097925",
     "status": "completed"
    },
    "tags": []
   },
   "outputs": [],
   "source": [
    "df=pd.read_csv('/kaggle/input/test-file/tested.csv')"
   ]
  },
  {
   "cell_type": "code",
   "execution_count": 3,
   "id": "e9398349",
   "metadata": {
    "execution": {
     "iopub.execute_input": "2023-01-17T05:12:42.145596Z",
     "iopub.status.busy": "2023-01-17T05:12:42.145158Z",
     "iopub.status.idle": "2023-01-17T05:12:42.169513Z",
     "shell.execute_reply": "2023-01-17T05:12:42.168373Z"
    },
    "papermill": {
     "duration": 0.033214,
     "end_time": "2023-01-17T05:12:42.172075",
     "exception": false,
     "start_time": "2023-01-17T05:12:42.138861",
     "status": "completed"
    },
    "tags": []
   },
   "outputs": [
    {
     "data": {
      "text/html": [
       "<div>\n",
       "<style scoped>\n",
       "    .dataframe tbody tr th:only-of-type {\n",
       "        vertical-align: middle;\n",
       "    }\n",
       "\n",
       "    .dataframe tbody tr th {\n",
       "        vertical-align: top;\n",
       "    }\n",
       "\n",
       "    .dataframe thead th {\n",
       "        text-align: right;\n",
       "    }\n",
       "</style>\n",
       "<table border=\"1\" class=\"dataframe\">\n",
       "  <thead>\n",
       "    <tr style=\"text-align: right;\">\n",
       "      <th></th>\n",
       "      <th>PassengerId</th>\n",
       "      <th>Survived</th>\n",
       "      <th>Pclass</th>\n",
       "      <th>Name</th>\n",
       "      <th>Sex</th>\n",
       "      <th>Age</th>\n",
       "      <th>SibSp</th>\n",
       "      <th>Parch</th>\n",
       "      <th>Ticket</th>\n",
       "      <th>Fare</th>\n",
       "      <th>Cabin</th>\n",
       "      <th>Embarked</th>\n",
       "    </tr>\n",
       "  </thead>\n",
       "  <tbody>\n",
       "    <tr>\n",
       "      <th>0</th>\n",
       "      <td>892</td>\n",
       "      <td>0</td>\n",
       "      <td>3</td>\n",
       "      <td>Kelly, Mr. James</td>\n",
       "      <td>male</td>\n",
       "      <td>34.5</td>\n",
       "      <td>0</td>\n",
       "      <td>0</td>\n",
       "      <td>330911</td>\n",
       "      <td>7.8292</td>\n",
       "      <td>NaN</td>\n",
       "      <td>Q</td>\n",
       "    </tr>\n",
       "    <tr>\n",
       "      <th>1</th>\n",
       "      <td>893</td>\n",
       "      <td>1</td>\n",
       "      <td>3</td>\n",
       "      <td>Wilkes, Mrs. James (Ellen Needs)</td>\n",
       "      <td>female</td>\n",
       "      <td>47.0</td>\n",
       "      <td>1</td>\n",
       "      <td>0</td>\n",
       "      <td>363272</td>\n",
       "      <td>7.0000</td>\n",
       "      <td>NaN</td>\n",
       "      <td>S</td>\n",
       "    </tr>\n",
       "    <tr>\n",
       "      <th>2</th>\n",
       "      <td>894</td>\n",
       "      <td>0</td>\n",
       "      <td>2</td>\n",
       "      <td>Myles, Mr. Thomas Francis</td>\n",
       "      <td>male</td>\n",
       "      <td>62.0</td>\n",
       "      <td>0</td>\n",
       "      <td>0</td>\n",
       "      <td>240276</td>\n",
       "      <td>9.6875</td>\n",
       "      <td>NaN</td>\n",
       "      <td>Q</td>\n",
       "    </tr>\n",
       "    <tr>\n",
       "      <th>3</th>\n",
       "      <td>895</td>\n",
       "      <td>0</td>\n",
       "      <td>3</td>\n",
       "      <td>Wirz, Mr. Albert</td>\n",
       "      <td>male</td>\n",
       "      <td>27.0</td>\n",
       "      <td>0</td>\n",
       "      <td>0</td>\n",
       "      <td>315154</td>\n",
       "      <td>8.6625</td>\n",
       "      <td>NaN</td>\n",
       "      <td>S</td>\n",
       "    </tr>\n",
       "    <tr>\n",
       "      <th>4</th>\n",
       "      <td>896</td>\n",
       "      <td>1</td>\n",
       "      <td>3</td>\n",
       "      <td>Hirvonen, Mrs. Alexander (Helga E Lindqvist)</td>\n",
       "      <td>female</td>\n",
       "      <td>22.0</td>\n",
       "      <td>1</td>\n",
       "      <td>1</td>\n",
       "      <td>3101298</td>\n",
       "      <td>12.2875</td>\n",
       "      <td>NaN</td>\n",
       "      <td>S</td>\n",
       "    </tr>\n",
       "  </tbody>\n",
       "</table>\n",
       "</div>"
      ],
      "text/plain": [
       "   PassengerId  Survived  Pclass  \\\n",
       "0          892         0       3   \n",
       "1          893         1       3   \n",
       "2          894         0       2   \n",
       "3          895         0       3   \n",
       "4          896         1       3   \n",
       "\n",
       "                                           Name     Sex   Age  SibSp  Parch  \\\n",
       "0                              Kelly, Mr. James    male  34.5      0      0   \n",
       "1              Wilkes, Mrs. James (Ellen Needs)  female  47.0      1      0   \n",
       "2                     Myles, Mr. Thomas Francis    male  62.0      0      0   \n",
       "3                              Wirz, Mr. Albert    male  27.0      0      0   \n",
       "4  Hirvonen, Mrs. Alexander (Helga E Lindqvist)  female  22.0      1      1   \n",
       "\n",
       "    Ticket     Fare Cabin Embarked  \n",
       "0   330911   7.8292   NaN        Q  \n",
       "1   363272   7.0000   NaN        S  \n",
       "2   240276   9.6875   NaN        Q  \n",
       "3   315154   8.6625   NaN        S  \n",
       "4  3101298  12.2875   NaN        S  "
      ]
     },
     "execution_count": 3,
     "metadata": {},
     "output_type": "execute_result"
    }
   ],
   "source": [
    "df.head()"
   ]
  },
  {
   "cell_type": "markdown",
   "id": "e12e5825",
   "metadata": {
    "papermill": {
     "duration": 0.004842,
     "end_time": "2023-01-17T05:12:42.182180",
     "exception": false,
     "start_time": "2023-01-17T05:12:42.177338",
     "status": "completed"
    },
    "tags": []
   },
   "source": [
    "1. **Categorical data**"
   ]
  },
  {
   "cell_type": "code",
   "execution_count": 4,
   "id": "a1ce65f3",
   "metadata": {
    "execution": {
     "iopub.execute_input": "2023-01-17T05:12:42.194233Z",
     "iopub.status.busy": "2023-01-17T05:12:42.193768Z",
     "iopub.status.idle": "2023-01-17T05:12:43.368222Z",
     "shell.execute_reply": "2023-01-17T05:12:43.366883Z"
    },
    "papermill": {
     "duration": 1.183478,
     "end_time": "2023-01-17T05:12:43.370754",
     "exception": false,
     "start_time": "2023-01-17T05:12:42.187276",
     "status": "completed"
    },
    "tags": []
   },
   "outputs": [
    {
     "name": "stderr",
     "output_type": "stream",
     "text": [
      "/opt/conda/lib/python3.7/site-packages/seaborn/_decorators.py:43: FutureWarning: Pass the following variable as a keyword arg: x. From version 0.12, the only valid positional argument will be `data`, and passing other arguments without an explicit keyword will result in an error or misinterpretation.\n",
      "  FutureWarning\n"
     ]
    },
    {
     "data": {
      "text/plain": [
       "<AxesSubplot:xlabel='Survived', ylabel='count'>"
      ]
     },
     "execution_count": 4,
     "metadata": {},
     "output_type": "execute_result"
    },
    {
     "data": {
      "image/png": "[encoded data removed]",
      "text/plain": [
       "<Figure size 432x288 with 1 Axes>"
      ]
     },
     "metadata": {
      "needs_background": "light"
     },
     "output_type": "display_data"
    }
   ],
   "source": [
    "#countplot\n",
    "import seaborn as sns\n",
    "sns.countplot(df['Survived'])"
   ]
  },
  {
   "cell_type": "code",
   "execution_count": 5,
   "id": "39536fb6",
   "metadata": {
    "execution": {
     "iopub.execute_input": "2023-01-17T05:12:43.384247Z",
     "iopub.status.busy": "2023-01-17T05:12:43.383474Z",
     "iopub.status.idle": "2023-01-17T05:12:43.580457Z",
     "shell.execute_reply": "2023-01-17T05:12:43.579155Z"
    },
    "papermill": {
     "duration": 0.206715,
     "end_time": "2023-01-17T05:12:43.583020",
     "exception": false,
     "start_time": "2023-01-17T05:12:43.376305",
     "status": "completed"
    },
    "tags": []
   },
   "outputs": [
    {
     "name": "stderr",
     "output_type": "stream",
     "text": [
      "/opt/conda/lib/python3.7/site-packages/seaborn/_decorators.py:43: FutureWarning: Pass the following variable as a keyword arg: x. From version 0.12, the only valid positional argument will be `data`, and passing other arguments without an explicit keyword will result in an error or misinterpretation.\n",
      "  FutureWarning\n"
     ]
    },
    {
     "data": {
      "text/plain": [
       "<AxesSubplot:xlabel='Embarked', ylabel='count'>"
      ]
     },
     "execution_count": 5,
     "metadata": {},
     "output_type": "execute_result"
    },
    {
     "data": {
      "image/png": "[encoded data removed]",
      "text/plain": [
       "<Figure size 432x288 with 1 Axes>"
      ]
     },
     "metadata": {
      "needs_background": "light"
     },
     "output_type": "display_data"
    }
   ],
   "source": [
    "sns.countplot(df['Embarked'])"
   ]
  },
  {
   "cell_type": "code",
   "execution_count": 6,
   "id": "96b8a4e7",
   "metadata": {
    "execution": {
     "iopub.execute_input": "2023-01-17T05:12:43.597651Z",
     "iopub.status.busy": "2023-01-17T05:12:43.596503Z",
     "iopub.status.idle": "2023-01-17T05:12:43.781796Z",
     "shell.execute_reply": "2023-01-17T05:12:43.780829Z"
    },
    "papermill": {
     "duration": 0.19507,
     "end_time": "2023-01-17T05:12:43.784049",
     "exception": false,
     "start_time": "2023-01-17T05:12:43.588979",
     "status": "completed"
    },
    "tags": []
   },
   "outputs": [
    {
     "name": "stderr",
     "output_type": "stream",
     "text": [
      "/opt/conda/lib/python3.7/site-packages/seaborn/_decorators.py:43: FutureWarning: Pass the following variable as a keyword arg: x. From version 0.12, the only valid positional argument will be `data`, and passing other arguments without an explicit keyword will result in an error or misinterpretation.\n",
      "  FutureWarning\n"
     ]
    },
    {
     "data": {
      "text/plain": [
       "<AxesSubplot:xlabel='Sex', ylabel='count'>"
      ]
     },
     "execution_count": 6,
     "metadata": {},
     "output_type": "execute_result"
    },
    {
     "data": {
      "image/png": "[encoded data removed]",
      "text/plain": [
       "<Figure size 432x288 with 1 Axes>"
      ]
     },
     "metadata": {
      "needs_background": "light"
     },
     "output_type": "display_data"
    }
   ],
   "source": [
    "sns.countplot(df['Sex'])"
   ]
  },
  {
   "cell_type": "code",
   "execution_count": 7,
   "id": "f0c1649c",
   "metadata": {
    "execution": {
     "iopub.execute_input": "2023-01-17T05:12:43.798964Z",
     "iopub.status.busy": "2023-01-17T05:12:43.798177Z",
     "iopub.status.idle": "2023-01-17T05:12:43.990961Z",
     "shell.execute_reply": "2023-01-17T05:12:43.989592Z"
    },
    "papermill": {
     "duration": 0.204488,
     "end_time": "2023-01-17T05:12:43.994923",
     "exception": false,
     "start_time": "2023-01-17T05:12:43.790435",
     "status": "completed"
    },
    "tags": []
   },
   "outputs": [
    {
     "name": "stderr",
     "output_type": "stream",
     "text": [
      "/opt/conda/lib/python3.7/site-packages/seaborn/_decorators.py:43: FutureWarning: Pass the following variable as a keyword arg: x. From version 0.12, the only valid positional argument will be `data`, and passing other arguments without an explicit keyword will result in an error or misinterpretation.\n",
      "  FutureWarning\n"
     ]
    },
    {
     "data": {
      "text/plain": [
       "<AxesSubplot:xlabel='Pclass', ylabel='count'>"
      ]
     },
     "execution_count": 7,
     "metadata": {},
     "output_type": "execute_result"
    },
    {
     "data": {
      "image/png": "[encoded data removed]",
      "text/plain": [
       "<Figure size 432x288 with 1 Axes>"
      ]
     },
     "metadata": {
      "needs_background": "light"
     },
     "output_type": "display_data"
    }
   ],
   "source": [
    "sns.countplot(df['Pclass'])"
   ]
  },
  {
   "cell_type": "markdown",
   "id": "ad21d8df",
   "metadata": {
    "papermill": {
     "duration": 0.007429,
     "end_time": "2023-01-17T05:12:44.012873",
     "exception": false,
     "start_time": "2023-01-17T05:12:44.005444",
     "status": "completed"
    },
    "tags": []
   },
   "source": [
    "# Same thing if you want to check in percentage then show it over pie chart"
   ]
  },
  {
   "cell_type": "code",
   "execution_count": 8,
   "id": "aa9096af",
   "metadata": {
    "execution": {
     "iopub.execute_input": "2023-01-17T05:12:44.029087Z",
     "iopub.status.busy": "2023-01-17T05:12:44.028626Z",
     "iopub.status.idle": "2023-01-17T05:12:44.173478Z",
     "shell.execute_reply": "2023-01-17T05:12:44.171790Z"
    },
    "papermill": {
     "duration": 0.15811,
     "end_time": "2023-01-17T05:12:44.178125",
     "exception": false,
     "start_time": "2023-01-17T05:12:44.020015",
     "status": "completed"
    },
    "tags": []
   },
   "outputs": [
    {
     "data": {
      "text/plain": [
       "<AxesSubplot:ylabel='Survived'>"
      ]
     },
     "execution_count": 8,
     "metadata": {},
     "output_type": "execute_result"
    },
    {
     "data": {
      "image/png": "[encoded data removed]",
      "text/plain": [
       "<Figure size 432x288 with 1 Axes>"
      ]
     },
     "metadata": {},
     "output_type": "display_data"
    }
   ],
   "source": [
    "import matplotlib.pyplot as plt\n",
    "df['Survived'].value_counts().plot(kind='pie',autopct='%.2f')"
   ]
  },
  {
   "cell_type": "code",
   "execution_count": 9,
   "id": "64c463d7",
   "metadata": {
    "execution": {
     "iopub.execute_input": "2023-01-17T05:12:44.216802Z",
     "iopub.status.busy": "2023-01-17T05:12:44.215523Z",
     "iopub.status.idle": "2023-01-17T05:12:44.355412Z",
     "shell.execute_reply": "2023-01-17T05:12:44.353714Z"
    },
    "papermill": {
     "duration": 0.164021,
     "end_time": "2023-01-17T05:12:44.359923",
     "exception": false,
     "start_time": "2023-01-17T05:12:44.195902",
     "status": "completed"
    },
    "tags": []
   },
   "outputs": [
    {
     "data": {
      "text/plain": [
       "<AxesSubplot:ylabel='Pclass'>"
      ]
     },
     "execution_count": 9,
     "metadata": {},
     "output_type": "execute_result"
    },
    {
     "data": {
      "image/png": "[encoded data removed]",
      "text/plain": [
       "<Figure size 432x288 with 1 Axes>"
      ]
     },
     "metadata": {},
     "output_type": "display_data"
    }
   ],
   "source": [
    "df['Pclass'].value_counts().plot(kind='pie',autopct='%.2f')"
   ]
  },
  {
   "cell_type": "code",
   "execution_count": 10,
   "id": "35cdb13a",
   "metadata": {
    "execution": {
     "iopub.execute_input": "2023-01-17T05:12:44.400398Z",
     "iopub.status.busy": "2023-01-17T05:12:44.399069Z",
     "iopub.status.idle": "2023-01-17T05:12:44.533099Z",
     "shell.execute_reply": "2023-01-17T05:12:44.531437Z"
    },
    "papermill": {
     "duration": 0.16151,
     "end_time": "2023-01-17T05:12:44.539846",
     "exception": false,
     "start_time": "2023-01-17T05:12:44.378336",
     "status": "completed"
    },
    "tags": []
   },
   "outputs": [
    {
     "data": {
      "text/plain": [
       "<AxesSubplot:ylabel='Sex'>"
      ]
     },
     "execution_count": 10,
     "metadata": {},
     "output_type": "execute_result"
    },
    {
     "data": {
      "image/png": "[encoded data removed]",
      "text/plain": [
       "<Figure size 432x288 with 1 Axes>"
      ]
     },
     "metadata": {},
     "output_type": "display_data"
    }
   ],
   "source": [
    "df['Sex'].value_counts().plot(kind='pie',autopct='%.2f')"
   ]
  },
  {
   "cell_type": "markdown",
   "id": "56491dd5",
   "metadata": {
    "papermill": {
     "duration": 0.018002,
     "end_time": "2023-01-17T05:12:44.578594",
     "exception": false,
     "start_time": "2023-01-17T05:12:44.560592",
     "status": "completed"
    },
    "tags": []
   },
   "source": []
  },
  {
   "cell_type": "markdown",
   "id": "01c39b6c",
   "metadata": {
    "papermill": {
     "duration": 0.018521,
     "end_time": "2023-01-17T05:12:44.616243",
     "exception": false,
     "start_time": "2023-01-17T05:12:44.597722",
     "status": "completed"
    },
    "tags": []
   },
   "source": [
    "# Numerical Data"
   ]
  },
  {
   "cell_type": "markdown",
   "id": "854ff7a1",
   "metadata": {
    "papermill": {
     "duration": 0.007781,
     "end_time": "2023-01-17T05:12:44.631561",
     "exception": false,
     "start_time": "2023-01-17T05:12:44.623780",
     "status": "completed"
    },
    "tags": []
   },
   "source": [
    "1.Historam"
   ]
  },
  {
   "cell_type": "code",
   "execution_count": 11,
   "id": "489decaa",
   "metadata": {
    "execution": {
     "iopub.execute_input": "2023-01-17T05:12:44.648692Z",
     "iopub.status.busy": "2023-01-17T05:12:44.648294Z",
     "iopub.status.idle": "2023-01-17T05:12:44.884236Z",
     "shell.execute_reply": "2023-01-17T05:12:44.883428Z"
    },
    "papermill": {
     "duration": 0.247237,
     "end_time": "2023-01-17T05:12:44.886669",
     "exception": false,
     "start_time": "2023-01-17T05:12:44.639432",
     "status": "completed"
    },
    "tags": []
   },
   "outputs": [
    {
     "data": {
      "text/plain": [
       "(array([16., 16., 71., 97., 43., 37., 25., 17.,  9.,  1.]),\n",
       " array([ 0.17 ,  7.753, 15.336, 22.919, 30.502, 38.085, 45.668, 53.251,\n",
       "        60.834, 68.417, 76.   ]),\n",
       " <BarContainer object of 10 artists>)"
      ]
     },
     "execution_count": 11,
     "metadata": {},
     "output_type": "execute_result"
    },
    {
     "data": {
      "image/png": "[encoded data removed]",
      "text/plain": [
       "<Figure size 432x288 with 1 Axes>"
      ]
     },
     "metadata": {
      "needs_background": "light"
     },
     "output_type": "display_data"
    }
   ],
   "source": [
    "plt.hist(df['Age'])"
   ]
  },
  {
   "cell_type": "code",
   "execution_count": 12,
   "id": "bf31f653",
   "metadata": {
    "execution": {
     "iopub.execute_input": "2023-01-17T05:12:44.904389Z",
     "iopub.status.busy": "2023-01-17T05:12:44.903413Z",
     "iopub.status.idle": "2023-01-17T05:12:45.272141Z",
     "shell.execute_reply": "2023-01-17T05:12:45.271127Z"
    },
    "papermill": {
     "duration": 0.3806,
     "end_time": "2023-01-17T05:12:45.274987",
     "exception": false,
     "start_time": "2023-01-17T05:12:44.894387",
     "status": "completed"
    },
    "tags": []
   },
   "outputs": [
    {
     "data": {
      "text/plain": [
       "<seaborn.axisgrid.FacetGrid at 0x7f38623d6590>"
      ]
     },
     "execution_count": 12,
     "metadata": {},
     "output_type": "execute_result"
    },
    {
     "data": {
      "image/png": "[encoded data removed]",
      "text/plain": [
       "<Figure size 360x360 with 1 Axes>"
      ]
     },
     "metadata": {
      "needs_background": "light"
     },
     "output_type": "display_data"
    }
   ],
   "source": [
    "sns.displot(df['Age'],kde=True)"
   ]
  },
  {
   "cell_type": "code",
   "execution_count": 13,
   "id": "80ff4c8b",
   "metadata": {
    "execution": {
     "iopub.execute_input": "2023-01-17T05:12:45.293277Z",
     "iopub.status.busy": "2023-01-17T05:12:45.292876Z",
     "iopub.status.idle": "2023-01-17T05:12:45.497943Z",
     "shell.execute_reply": "2023-01-17T05:12:45.496524Z"
    },
    "papermill": {
     "duration": 0.219711,
     "end_time": "2023-01-17T05:12:45.503125",
     "exception": false,
     "start_time": "2023-01-17T05:12:45.283414",
     "status": "completed"
    },
    "tags": []
   },
   "outputs": [
    {
     "name": "stderr",
     "output_type": "stream",
     "text": [
      "/opt/conda/lib/python3.7/site-packages/seaborn/_decorators.py:43: FutureWarning: Pass the following variable as a keyword arg: x. From version 0.12, the only valid positional argument will be `data`, and passing other arguments without an explicit keyword will result in an error or misinterpretation.\n",
      "  FutureWarning\n"
     ]
    },
    {
     "data": {
      "text/plain": [
       "<AxesSubplot:xlabel='Age'>"
      ]
     },
     "execution_count": 13,
     "metadata": {},
     "output_type": "execute_result"
    },
    {
     "data": {
      "image/png": "[encoded data removed]",
      "text/plain": [
       "<Figure size 432x288 with 1 Axes>"
      ]
     },
     "metadata": {
      "needs_background": "light"
     },
     "output_type": "display_data"
    }
   ],
   "source": [
    "sns.boxplot(df['Age'])"
   ]
  },
  {
   "cell_type": "code",
   "execution_count": null,
   "id": "5aed1384",
   "metadata": {
    "papermill": {
     "duration": 0.010224,
     "end_time": "2023-01-17T05:12:45.527106",
     "exception": false,
     "start_time": "2023-01-17T05:12:45.516882",
     "status": "completed"
    },
    "tags": []
   },
   "outputs": [],
   "source": []
  }
 ],
 "metadata": {
  "kernelspec": {
   "display_name": "Python 3",
   "language": "python",
   "name": "python3"
  },
  "language_info": {
   "codemirror_mode": {
    "name": "ipython",
    "version": 3
   },
   "file_extension": ".py",
   "mimetype": "text/x-python",
   "name": "python",
   "nbconvert_exporter": "python",
   "pygments_lexer": "ipython3",
   "version": "3.7.12"
  },
  "papermill": {
   "default_parameters": {},
   "duration": 13.016137,
   "end_time": "2023-01-17T05:12:46.361422",
   "environment_variables": {},
   "exception": null,
   "input_path": "__notebook__.ipynb",
   "output_path": "__notebook__.ipynb",
   "parameters": {},
   "start_time": "2023-01-17T05:12:33.345285",
   "version": "2.3.4"
  }
 },
 "nbformat": 4,
 "nbformat_minor": 5
}
